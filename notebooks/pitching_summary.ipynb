{
 "cells": [
  {
   "cell_type": "code",
   "execution_count": null,
   "id": "95449021",
   "metadata": {
    "vscode": {
     "languageId": "plaintext"
    }
   },
   "outputs": [],
   "source": [
    "import pandas as pd\n",
    "\n",
    "import numpy as np\n",
    "\n",
    "import matplotlib.pyplot as plt\n",
    "\n",
    "import seaborn as sns\n",
    "\n",
    "import pybaseball as pyb\n",
    "\n",
    "import matplotlib as mpl\n",
    " \n",
    "# Font settings\n",
    "\n",
    "font_properties = {'family': 'DejaVu Sans', 'size': 12}\n",
    "\n",
    "font_properties_titles = {'family': 'DejaVu Sans', 'size': 20}\n",
    "\n",
    "font_properties_axes = {'family': 'DejaVu Sans', 'size': 16}\n",
    " \n",
    "# Seaborn theme and DPI\n",
    "\n",
    "sns.set_theme(style='whitegrid', palette='deep', font='DejaVu Sans', font_scale=1.5)\n",
    "\n",
    "mpl.rcParams['figure.dpi'] = 300\n",
    "\n",
    " "
   ]
  }
 ],
 "metadata": {
  "language_info": {
   "name": "python"
  }
 },
 "nbformat": 4,
 "nbformat_minor": 5
}
